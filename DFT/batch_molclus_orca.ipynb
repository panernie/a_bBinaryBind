{
 "cells": [
  {
   "cell_type": "code",
   "execution_count": null,
   "id": "ea98062a",
   "metadata": {},
   "outputs": [],
   "source": [
    "import subprocess\n",
    "import os\n",
    "import shutil\n",
    "import numpy as np\n",
    "import pandas as pd"
   ]
  },
  {
   "cell_type": "code",
   "execution_count": null,
   "id": "be4125a5",
   "metadata": {},
   "outputs": [],
   "source": [
    "path=\"/home/cptd/Documents/Molclus/fangbo\"\n",
    "molculs_path = f\"/home/cptd/Documents/Molclus/molclus_1.12_Linux\"\n",
    "new_file_name = 'traj.xyz'\n",
    "destination_folder = 'genmer_mol'\n",
    "destination_file_path=os.path.join(path, destination_folder)"
   ]
  },
  {
   "cell_type": "code",
   "execution_count": null,
   "id": "e467e11a",
   "metadata": {},
   "outputs": [],
   "source": [
    "def get_file_names_in_directory(path):\n",
    "    files = []\n",
    "    file_names =[]\n",
    "    files_names = []\n",
    "    for file in os.listdir(path):\n",
    "        files_names.append(file)\n",
    "        file_name = file.split(\".\")[0]\n",
    "        file_names.append(file_name)\n",
    "        if os.path.isfile(os.path.join(path, file)):\n",
    "            files.append(os.path.join(path, file))\n",
    "    return files,file_names,files_names"
   ]
  },
  {
   "cell_type": "code",
   "execution_count": null,
   "id": "12ca9cdb",
   "metadata": {},
   "outputs": [],
   "source": [
    "def get_atom_num(genmer_files_names,i):\n",
    "    mol1 = genmer_files_names[i].split(\"_\")[0]\n",
    "    mol2 = genmer_files_names[i].split(\"_\")[1].split(\".\")[0]\n",
    "    atom1 = df.loc[df['names'] == mol1, 'atom_num'].values[0]\n",
    "    atom2 = df.loc[df['names'] == mol2, 'atom_num'].values[0]\n",
    "    line1 = f\"1-{atom1}\"\n",
    "    line2 = f\"{atom1+1}-{atom1+atom2}\"\n",
    "    atomnum=atom1+atom2\n",
    "    return line1,line2,atomnum"
   ]
  },
  {
   "cell_type": "code",
   "execution_count": null,
   "id": "108b6af4",
   "metadata": {},
   "outputs": [],
   "source": [
    "def Ti_file_xyz(input_file,output_file,atomnum): \n",
    "    with open(input_file, 'r') as file:\n",
    "        lines = file.readlines()\n",
    "    header_lines = lines[:atomnum+2]\n",
    "    with open(output_file, 'w') as new_file:\n",
    "        new_file.writelines(header_lines)   "
   ]
  },
  {
   "cell_type": "code",
   "execution_count": null,
   "id": "6d8fd502",
   "metadata": {},
   "outputs": [],
   "source": [
    "def shell_change(line1,line2,i):\n",
    "# Read raw shell script file\n",
    "    with open('multiwfn_bind.sh', 'r') as file:\n",
    "        lines = file.readlines()\n",
    "# Amendments to lines 1, 9 and 10\n",
    "    lines[0] = f'Multiwfn {genmer_names[i]}_best1.xyz > /dev/null << EOF\\n'\n",
    "    lines[8] = f'{line1}\\n'\n",
    "    lines[9] = f'{line2}\\n'\n",
    "# Save the modifications as a new shell script file\n",
    "    with open('modified_multiwfn.sh', 'w') as new_file:\n",
    "        new_file.writelines(lines)\n",
    "    print(\"The new Shell script file is successfully modified and saved\")    "
   ]
  },
  {
   "cell_type": "code",
   "execution_count": null,
   "id": "6613d412",
   "metadata": {},
   "outputs": [],
   "source": [
    "genmer_file_paths,genmer_names,genmer_files_names = get_file_names_in_directory(destination_file_path)"
   ]
  },
  {
   "cell_type": "code",
   "execution_count": null,
   "id": "749811c2",
   "metadata": {},
   "outputs": [],
   "source": [
    "df = pd.read_excel(\"atom_num_name.xlsx\")"
   ]
  },
  {
   "cell_type": "code",
   "execution_count": null,
   "id": "22128632",
   "metadata": {},
   "outputs": [],
   "source": [
    "from tqdm import tqdm"
   ]
  },
  {
   "cell_type": "code",
   "execution_count": null,
   "id": "f8ed9dd9",
   "metadata": {},
   "outputs": [],
   "source": [
    "#Create a new file path\n",
    "new_folder_path = f'{molculs_path}/401'\n",
    "os.makedirs(new_folder_path, exist_ok=True)"
   ]
  },
  {
   "cell_type": "code",
   "execution_count": null,
   "id": "2bf83a5a",
   "metadata": {},
   "outputs": [],
   "source": [
    "for i in tqdm(range(len(genmer_files_names))):\n",
    "    line1,line2,atomnum=get_atom_num(genmer_files_names,i)\n",
    "    destination_file = os.path.join(molculs_path, new_file_name)\n",
    "    shutil.copy(genmer_file_paths[i], destination_file)\n",
    "    os.rename(destination_file, os.path.join(molculs_path, new_file_name))     \n",
    "    os.chdir(molculs_path)\n",
    "    os.system(\"bash molclus.sh\")\n",
    "    # 读取原始XYZ文件\n",
    "    input_file='cluster.xyz'\n",
    "    output_file=f'{genmer_names[i]}_best1.xyz'\n",
    "    Ti_file_xyz(input_file,output_file,atomnum)\n",
    "    shell_change(line1,line2,i)\n",
    "    os.system(\"bash modified_multiwfn.sh\")\n",
    "    sub_folder_path = os.path.join(new_folder_path, f'{genmer_names[i]}')\n",
    "    try:\n",
    "        os.makedirs(sub_folder_path,exist_ok=True)\n",
    "    except:\n",
    "        pass\n",
    "    #SP_path = os.path.join(sub_folder_path,f\"{genmer_names[i]}\")\n",
    "    shutil.move(\"SP.inp\", sub_folder_path)"
   ]
  },
  {
   "cell_type": "code",
   "execution_count": null,
   "id": "6969d756",
   "metadata": {},
   "outputs": [],
   "source": [
    "new_folder_path = f'{molculs_path}/401'\n",
    "root_folder = new_folder_path\n",
    "SP_paths=[]\n",
    "Out_paths=[]\n",
    "gbw_paths=[]\n",
    "for root, dirs, files in os.walk(root_folder):\n",
    "    for file in files:\n",
    "        file_out_path=os.path.join(root, \"SP.out\")\n",
    "        gbw_paths.append(os.path.join(root, \"SP.gbw\"))\n",
    "        file_path = os.path.join(root, file)\n",
    "        SP_paths.append(file_path)\n",
    "        Out_paths.append(file_out_path)"
   ]
  },
  {
   "cell_type": "code",
   "execution_count": null,
   "id": "a2dcb07f",
   "metadata": {},
   "outputs": [],
   "source": [
    "error_SP_path=[]\n",
    "error_OUT_path=[]\n",
    "num=1\n",
    "for i in tqdm(range(len(SP_paths))):\n",
    "    SP_file = SP_paths[i]\n",
    "    Out_file = Out_paths[i]\n",
    "    if \"moa1_\" in SP_file:\n",
    "        error_SP_path.append(SP_file)\n",
    "        error_OUT_path.append(Out_file)\n",
    "        #continue\n",
    "    #if \"mob1\" in SP_file:\n",
    "        #continue\n",
    "    else:\n",
    "        num+=1\n",
    "        os.system(f\"/home/cptd/Software/ORCA-5.0.3/orca {SP_file} > {Out_file}\")\n",
    "print(num)"
   ]
  },
  {
   "cell_type": "code",
   "execution_count": null,
   "id": "34dce8ba",
   "metadata": {},
   "outputs": [],
   "source": [
    "Out_paths=list(set(Out_paths))\n",
    "len(Out_paths)"
   ]
  },
  {
   "cell_type": "code",
   "execution_count": null,
   "id": "c6b23e84",
   "metadata": {},
   "outputs": [],
   "source": [
    "def bind_cal(SP_path_data):\n",
    "    with open(SP_path_data,\"r\") as file:\n",
    "        bind_data = []\n",
    "        for line in file:\n",
    "            line = line.strip()\n",
    "            if \"FINAL SINGLE POINT ENERGY\" in line:\n",
    "                bind_data.append(line.split(\" \")[-1])\n",
    "        if len(bind_data)==3:\n",
    "            #print(SP_path_data)\n",
    "            total_energy=float(bind_data[0])\n",
    "            try:\n",
    "                bind_energy=627.51*(float(bind_data[0])-float(bind_data[1])-float(bind_data[2]))\n",
    "                result=bind_energy\n",
    "            except:\n",
    "                print(SP_path_data)\n",
    "                result=0\n",
    "        else:\n",
    "            result=0\n",
    "            total_energy=float(bind_data[0])\n",
    "            #print(genmer_name)\n",
    "    return result, total_energy"
   ]
  },
  {
   "cell_type": "code",
   "execution_count": null,
   "id": "34f5af90",
   "metadata": {},
   "outputs": [],
   "source": [
    "none_OUT_path = []\n",
    "none_SP_path = []\n",
    "none_genmer_name = []\n",
    "ok_genmer_name = []\n",
    "total_energys=[]\n",
    "binds = []\n",
    "for i in range(len(Out_paths)):\n",
    "    Out_file = Out_paths[i]\n",
    "    bind,total_energy = bind_cal(Out_file)\n",
    "    total_energys.append(total_energy)\n",
    "    if bind==0:\n",
    "        none_OUT_path.append(Out_file)\n",
    "        none_SP_path.append(SP_paths[i])\n",
    "        none_genmer_name.append(genmer_names[i])\n",
    "    else:\n",
    "        binds.append(bind)\n",
    "        ok_genmer_name.append(genmer_names[i])\n",
    "    #except:\n",
    "           # none_OUT_path.append(Out_file)\n",
    "            #none_SP_path.append(SP_paths[i])\n",
    "            #none_genmer_name.append(genmer_names[i])"
   ]
  },
  {
   "cell_type": "code",
   "execution_count": null,
   "id": "e7ad692f",
   "metadata": {},
   "outputs": [],
   "source": [
    "bind_df_total = pd.DataFrame(np.array([genmer_names,total_energys]).T,columns=[\"genmer_names\",\"total_energys\"])\n",
    "bind_df_total.to_csv(f\"{path}/401_binds_total.csv\",index=None)"
   ]
  },
  {
   "cell_type": "code",
   "execution_count": null,
   "id": "2b32c555",
   "metadata": {},
   "outputs": [],
   "source": [
    "bind_df = pd.DataFrame(np.array([ok_genmer_name,binds]).T,columns=[\"genmer_names\",\"Bind(kcal/mol)\"])"
   ]
  },
  {
   "cell_type": "code",
   "execution_count": null,
   "id": "a58e9afb",
   "metadata": {},
   "outputs": [],
   "source": [
    "bind_df.to_csv(f\"{path}/401_binds.csv\",index=None)"
   ]
  },
  {
   "cell_type": "code",
   "execution_count": null,
   "id": "4b07b402",
   "metadata": {},
   "outputs": [],
   "source": [
    "#Separate saving of components that did not run successfully\n",
    "none_bind_df = pd.DataFrame(np.array(none_genmer_name),columns=[\"none_genmer_names\"])\n",
    "none_bind_df.to_csv(f\"{path}/none.csv\",index=None)"
   ]
  },
  {
   "cell_type": "markdown",
   "id": "cc22b42c",
   "metadata": {},
   "source": [
    "# IGMH analysis"
   ]
  },
  {
   "cell_type": "code",
   "execution_count": null,
   "id": "17efa73a",
   "metadata": {},
   "outputs": [],
   "source": [
    "gbw_paths=list(set(gbw_paths))"
   ]
  },
  {
   "cell_type": "code",
   "execution_count": null,
   "id": "cf2fa884",
   "metadata": {},
   "outputs": [],
   "source": [
    "#These allow you to select the components you want to calculate and analyze\n",
    "a1=[\"moa1\",\"moa2\",\"moa3\",\"moa4\",\"moa5\"]\n",
    "b1=[\"mob1\",\"mob2\",\"mob3\",\"mob4\",\"mob5\"]"
   ]
  },
  {
   "cell_type": "code",
   "execution_count": null,
   "id": "2ce75285",
   "metadata": {},
   "outputs": [],
   "source": [
    "ab=[]\n",
    "for i in a1:\n",
    "    for j in b1:\n",
    "        ab.append(f\"{i}_{j}\")"
   ]
  },
  {
   "cell_type": "code",
   "execution_count": null,
   "id": "d1a8fa7e",
   "metadata": {},
   "outputs": [],
   "source": [
    "gbw_paths_ok=[]\n",
    "for i in gbw_paths:\n",
    "    gbw_name = i.split(\"/\")[-2]\n",
    "    if gbw_name in ab:\n",
    "        gbw_paths_ok.append(i)"
   ]
  },
  {
   "cell_type": "code",
   "execution_count": null,
   "id": "711797fb",
   "metadata": {},
   "outputs": [],
   "source": [
    "genmer_files_names_ok=[]\n",
    "for i in genmer_files_names:\n",
    "    gbw_name = i.split(\".\")[0]\n",
    "    if gbw_name in ab:\n",
    "        genmer_files_names_ok.append(i)"
   ]
  },
  {
   "cell_type": "code",
   "execution_count": null,
   "id": "811b3ae7",
   "metadata": {},
   "outputs": [],
   "source": [
    "gbw_paths_ok=sorted(gbw_paths_ok)"
   ]
  },
  {
   "cell_type": "code",
   "execution_count": null,
   "id": "c9fe344b",
   "metadata": {},
   "outputs": [],
   "source": [
    "def IGMH_analysis(line1,line2,i):\n",
    "# 读取原始Shell脚本文件\n",
    "    with open('IGMH.sh', 'r') as file:\n",
    "        lines = file.readlines()\n",
    "# 修改第1行，第9行和第10行\n",
    "        lines[0] = f'Multiwfn {gbw_paths_ok[i]} > /dev/null << EOF\\n'\n",
    "        lines[4] = f'{line1}\\n'\n",
    "        lines[5] = f'{line2}\\n'\n",
    "# 将修改后的内容保存为新的Shell脚本文件\n",
    "    with open('IGMH_change.sh', 'w') as new_file:\n",
    "        new_file.writelines(lines)\n",
    "    print(\"Successfully modified and saved the new IGMH Shell script file\")  "
   ]
  },
  {
   "cell_type": "code",
   "execution_count": null,
   "id": "e6fd3d61",
   "metadata": {},
   "outputs": [],
   "source": [
    "genmer_files_names=genmer_files_names_ok"
   ]
  },
  {
   "cell_type": "code",
   "execution_count": null,
   "id": "d7fce86b",
   "metadata": {},
   "outputs": [],
   "source": [
    "line1,line2,atomnum=get_atom_num(genmer_files_names,1)"
   ]
  },
  {
   "cell_type": "code",
   "execution_count": null,
   "id": "e14cb3af",
   "metadata": {},
   "outputs": [],
   "source": [
    "genmer_files_names[1],line1,line2,atomnum"
   ]
  },
  {
   "cell_type": "code",
   "execution_count": null,
   "id": "de54d2ee",
   "metadata": {},
   "outputs": [],
   "source": [
    "for i in tqdm(range(len(genmer_files_names))):\n",
    "    os.chdir(molculs_path)\n",
    "    line1,line2,atomnum=get_atom_num(genmer_files_names,i)\n",
    "    IGMH_analysis(line1,line2,i)\n",
    "    source_file = \"IGMH_change.sh\"\n",
    "    sub_folder_path = os.path.join(new_folder_path, f'{ab[i]}')\n",
    "    \n",
    "    target_file = os.path.join(sub_folder_path,os.path.basename(source_file))\n",
    "    if os.path.exists(target_file):\n",
    "        os.remove(target_file)\n",
    "        \n",
    "    shutil.move(source_file, sub_folder_path)\n",
    "    os.chdir(sub_folder_path)\n",
    "    os.system(f\"bash {sub_folder_path}/IGMH_change.sh\")"
   ]
  }
 ],
 "metadata": {
  "kernelspec": {
   "display_name": "Python 3 (ipykernel)",
   "language": "python",
   "name": "python3"
  },
  "language_info": {
   "codemirror_mode": {
    "name": "ipython",
    "version": 3
   },
   "file_extension": ".py",
   "mimetype": "text/x-python",
   "name": "python",
   "nbconvert_exporter": "python",
   "pygments_lexer": "ipython3",
   "version": "3.7.12"
  }
 },
 "nbformat": 4,
 "nbformat_minor": 5
}
