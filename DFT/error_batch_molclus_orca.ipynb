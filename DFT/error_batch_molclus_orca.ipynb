{
 "cells": [
  {
   "cell_type": "code",
   "execution_count": null,
   "id": "4bb97ec5",
   "metadata": {},
   "outputs": [],
   "source": [
    "import subprocess\n",
    "import os\n",
    "import shutil\n",
    "import numpy as np\n",
    "import pandas as pd"
   ]
  },
  {
   "cell_type": "code",
   "execution_count": null,
   "id": "1ddd6053",
   "metadata": {},
   "outputs": [],
   "source": [
    "none_bind_df=pd.read_csv(\"none.csv\")\n",
    "none_names = none_bind_df.none_genmer_names"
   ]
  },
  {
   "cell_type": "code",
   "execution_count": null,
   "id": "e9ddd61d",
   "metadata": {},
   "outputs": [],
   "source": [
    "path=\"/home/cptd/Documents/Molclus/fangbo\"\n",
    "molculs_path = f\"/home/cptd/Documents/Molclus/molclus_1.12_Linux\"\n",
    "new_file_name = 'traj.xyz'\n",
    "destination_folder = 'genmer_mol'\n",
    "destination_file_path=os.path.join(path, destination_folder)"
   ]
  },
  {
   "cell_type": "code",
   "execution_count": null,
   "id": "c9175142",
   "metadata": {},
   "outputs": [],
   "source": [
    "def get_file_names_in_directory(path):\n",
    "    files = []\n",
    "    file_names =[]\n",
    "    files_names = []\n",
    "    for file in os.listdir(path):\n",
    "        files_names.append(file)\n",
    "        file_name = file.split(\".\")[0]\n",
    "        file_names.append(file_name)\n",
    "        if os.path.isfile(os.path.join(path, file)):\n",
    "            files.append(os.path.join(path, file))\n",
    "    return files,file_names,files_names"
   ]
  },
  {
   "cell_type": "code",
   "execution_count": null,
   "id": "ed48299e",
   "metadata": {},
   "outputs": [],
   "source": [
    "def get_atom_num(genmer_files_names,i):\n",
    "    mol1 = genmer_files_names[i].split(\"_\")[0]\n",
    "    mol2 = genmer_files_names[i].split(\"_\")[1].split(\".\")[0]\n",
    "    atom1 = df.loc[df['names'] == mol1, 'atom_num'].values[0]\n",
    "    atom2 = df.loc[df['names'] == mol2, 'atom_num'].values[0]\n",
    "    line1 = f\"1-{atom1}\"\n",
    "    line2 = f\"{atom1+1}-{atom1+atom2}\"\n",
    "    atomnum=atom1+atom2\n",
    "    return line1,line2,atomnum"
   ]
  },
  {
   "cell_type": "code",
   "execution_count": null,
   "id": "40044c52",
   "metadata": {},
   "outputs": [],
   "source": [
    "def Ti_file_xyz(input_file,output_file,atomnum): \n",
    "    with open(input_file, 'r') as file:\n",
    "        lines = file.readlines()\n",
    "    header_lines = lines[:atomnum+2]\n",
    "    with open(output_file, 'w') as new_file:\n",
    "        new_file.writelines(header_lines)   "
   ]
  },
  {
   "cell_type": "code",
   "execution_count": null,
   "id": "766c4215",
   "metadata": {},
   "outputs": [],
   "source": [
    "def shell_change(line1,line2,i):\n",
    "    with open('multiwfn_bind.sh', 'r') as file:\n",
    "        lines = file.readlines()\n",
    "    lines[0] = f'Multiwfn {genmer_names[i]}_best1.xyz > /dev/null << EOF\\n'\n",
    "    lines[8] = f'{line1}\\n'\n",
    "    lines[9] = f'{line2}\\n'\n",
    "    with open('modified_multiwfn.sh', 'w') as new_file:\n",
    "        new_file.writelines(lines)\n",
    "    print(\"The new Shell script file is successfully modified and saved\")    "
   ]
  },
  {
   "cell_type": "code",
   "execution_count": null,
   "id": "5bfe3fa3",
   "metadata": {},
   "outputs": [],
   "source": [
    "genmer_file_paths,genmer_names,genmer_files_names = get_file_names_in_directory(destination_file_path)"
   ]
  },
  {
   "cell_type": "code",
   "execution_count": null,
   "id": "2908fb70",
   "metadata": {},
   "outputs": [],
   "source": [
    "df = pd.read_excel(\"atom_num_name.xlsx\")"
   ]
  },
  {
   "cell_type": "code",
   "execution_count": null,
   "id": "af4bdcca",
   "metadata": {},
   "outputs": [],
   "source": [
    "from tqdm import tqdm"
   ]
  },
  {
   "cell_type": "code",
   "execution_count": null,
   "id": "2a6d61a0",
   "metadata": {},
   "outputs": [],
   "source": [
    "none_names_ok=list(none_names)"
   ]
  },
  {
   "cell_type": "code",
   "execution_count": null,
   "id": "f5003985",
   "metadata": {},
   "outputs": [],
   "source": [
    "genmer_file_paths_ok=[]\n",
    "for i in genmer_file_paths:\n",
    "    genmer_name = i.split(\"/\")[-1].split(\".\")[0]\n",
    "    if genmer_name in none_names_ok:\n",
    "        genmer_file_paths_ok.append(i)"
   ]
  },
  {
   "cell_type": "code",
   "execution_count": null,
   "id": "292bb0ac",
   "metadata": {},
   "outputs": [],
   "source": [
    "genmer_files_names_ok = []\n",
    "for i in genmer_files_names:\n",
    "    genmer_name = i.split(\".\")[0]\n",
    "    if genmer_name in none_names_ok:\n",
    "        genmer_files_names_ok.append(i)"
   ]
  },
  {
   "cell_type": "code",
   "execution_count": null,
   "id": "a53d6896",
   "metadata": {},
   "outputs": [],
   "source": [
    "genmer_file_paths=genmer_file_paths_ok\n",
    "genmer_names=none_names_ok\n",
    "genmer_files_names=genmer_files_names_ok"
   ]
  },
  {
   "cell_type": "code",
   "execution_count": null,
   "id": "c98fe926",
   "metadata": {},
   "outputs": [],
   "source": [
    "#Create a new file path\n",
    "new_folder_path = f'{molculs_path}/408'\n",
    "os.makedirs(new_folder_path, exist_ok=True)"
   ]
  },
  {
   "cell_type": "code",
   "execution_count": null,
   "id": "057a3c38",
   "metadata": {},
   "outputs": [],
   "source": [
    "for i in tqdm(range(len(genmer_files_names))):\n",
    "    line1,line2,atomnum=get_atom_num(genmer_files_names,i)\n",
    "    destination_file = os.path.join(molculs_path, new_file_name)\n",
    "    shutil.copy(genmer_file_paths[i], destination_file)\n",
    "    os.rename(destination_file, os.path.join(molculs_path, new_file_name))     \n",
    "    os.chdir(molculs_path)\n",
    "    os.system(\"bash molclus.sh\")\n",
    "    # 读取原始XYZ文件\n",
    "    input_file='cluster.xyz'\n",
    "    output_file=f'{genmer_names[i]}_best1.xyz'\n",
    "    Ti_file_xyz(input_file,output_file,atomnum)\n",
    "    shell_change(line1,line2,i)\n",
    "    os.system(\"bash modified_multiwfn.sh\")\n",
    "    sub_folder_path = os.path.join(new_folder_path, f'{genmer_names[i]}')\n",
    "    try:\n",
    "        os.makedirs(sub_folder_path,exist_ok=True)\n",
    "    except:\n",
    "        pass\n",
    "    #SP_path = os.path.join(sub_folder_path,f\"{genmer_names[i]}\")\n",
    "    shutil.move(\"SP.inp\", sub_folder_path)"
   ]
  },
  {
   "cell_type": "code",
   "execution_count": null,
   "id": "18a42643",
   "metadata": {},
   "outputs": [],
   "source": [
    "# Specify the path of the directory to traverse\n",
    "root_folder = new_folder_path\n",
    "SP_paths=[]\n",
    "Out_paths=[]\n",
    "gbw_paths=[]\n",
    "# Iterate through all folders and files in a given directory\n",
    "for root, dirs, files in os.walk(root_folder):\n",
    "    for file in files:\n",
    "        file_out_path=os.path.join(root, \"SP.out\")\n",
    "        gbw_paths.append(os.path.join(root, \"SP.gbw\"))\n",
    "        file_path = os.path.join(root, file)\n",
    "        SP_paths.append(file_path)\n",
    "        Out_paths.append(file_out_path)"
   ]
  },
  {
   "cell_type": "code",
   "execution_count": null,
   "id": "e19f1b0b",
   "metadata": {},
   "outputs": [],
   "source": [
    "error_SP_path=[]\n",
    "error_OUT_path=[]\n",
    "num=1\n",
    "for i in tqdm(range(len(SP_paths))):\n",
    "    SP_file = SP_paths[i]\n",
    "    Out_file = Out_paths[i]\n",
    "    num+=1\n",
    "    os.system(f\"/home/cptd/Software/ORCA-5.0.3/orca {SP_file} > {Out_file}\")\n",
    "print(num)\n",
    "        #os.system(f\"/home/cptd/Software/ORCA-5.0.3/orca {SP_file} > {Out_file}\")\n",
    "    #try:\n",
    "       # os.system(f\"orca {SP_file} > {Out_file}\")\n",
    "    #except:\n",
    "        #error_path.append(SP_file)"
   ]
  }
 ],
 "metadata": {
  "kernelspec": {
   "display_name": "Python 3 (ipykernel)",
   "language": "python",
   "name": "python3"
  },
  "language_info": {
   "codemirror_mode": {
    "name": "ipython",
    "version": 3
   },
   "file_extension": ".py",
   "mimetype": "text/x-python",
   "name": "python",
   "nbconvert_exporter": "python",
   "pygments_lexer": "ipython3",
   "version": "3.7.12"
  }
 },
 "nbformat": 4,
 "nbformat_minor": 5
}
